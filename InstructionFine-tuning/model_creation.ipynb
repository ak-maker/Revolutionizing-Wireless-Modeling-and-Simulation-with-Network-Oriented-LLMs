{
 "cells": [
  {
   "cell_type": "code",
   "execution_count": 31,
   "id": "84b9b248",
   "metadata": {},
   "outputs": [],
   "source": [
    "# Upload fine-tuning files\n",
    "\n",
    "import os\n",
    "from openai import AzureOpenAI\n",
    "\n",
    "os.environ[\"AZURE_OPENAI_ENDPOINT\"] = \"https://llm-ft.openai.azure.com/\"\n",
    "os.environ[\"AZURE_OPENAI_KEY\"] = \"<YOUR_AZURE_API_KEY>\"\n",
    "\n",
    "client = AzureOpenAI(\n",
    "  azure_endpoint = os.getenv(\"AZURE_OPENAI_ENDPOINT\"), \n",
    "  api_key=os.getenv(\"AZURE_OPENAI_KEY\"),  \n",
    "  api_version=\"2024-02-15-preview\"\n",
    ")"
   ]
  },
  {
   "cell_type": "code",
   "execution_count": 2,
   "id": "5d234085",
   "metadata": {},
   "outputs": [],
   "source": [
    "training_file_name = './train_data.jsonl'\n",
    "validation_file_name = './validate_data.jsonl'\n",
    "\n",
    "# Upload the training and validation dataset files to Azure OpenAI with the SDK.\n",
    "\n",
    "training_response = client.files.create(\n",
    "    file=open(training_file_name, \"rb\"), purpose=\"fine-tune\"\n",
    ")\n",
    "training_file_id = training_response.id\n",
    "\n",
    "validation_response = client.files.create(\n",
    "    file=open(validation_file_name, \"rb\"), purpose=\"fine-tune\"\n",
    ")\n",
    "validation_file_id = validation_response.id"
   ]
  },
  {
   "cell_type": "code",
   "execution_count": 3,
   "id": "abf20b0c",
   "metadata": {},
   "outputs": [
    {
     "name": "stdout",
     "output_type": "stream",
     "text": [
      "Training file ID: file-0d4b770a65664fd1b38658d595458b01\n",
      "Validation file ID: file-773536a60ebd455d98dda07748bf3435\n"
     ]
    }
   ],
   "source": [
    "print(\"Training file ID:\", training_file_id)\n",
    "print(\"Validation file ID:\", validation_file_id)"
   ]
  },
  {
   "cell_type": "code",
   "execution_count": 5,
   "id": "26c3af97",
   "metadata": {},
   "outputs": [],
   "source": [
    "training_file_id = \"file-0d4b770a65664fd1b38658d595458b01\"\n",
    "validation_file_id = \"file-773536a60ebd455d98dda07748bf3435\""
   ]
  },
  {
   "cell_type": "code",
   "execution_count": 22,
   "id": "0d01ce01",
   "metadata": {},
   "outputs": [],
   "source": [
    "response = client.fine_tuning.jobs.create(\n",
    "    training_file=training_file_id,\n",
    "    validation_file=validation_file_id,\n",
    "    model=\"gpt-35-turbo-1106\", # Enter base model name. Note that in Azure OpenAI the model name contains dashes and cannot contain dot/period characters. \n",
    "    hyperparameters={\n",
    "    \"n_epochs\": 24,\n",
    "    \"batch_size\": 32\n",
    "  }\n",
    ")\n",
    "\n",
    "job_id = response.id"
   ]
  },
  {
   "cell_type": "code",
   "execution_count": null,
   "id": "b86d8df0",
   "metadata": {
    "scrolled": true,
    "pycharm": {
     "is_executing": true
    }
   },
   "outputs": [],
   "source": [
    "# You can use the job ID to monitor the status of the fine-tuning job.\n",
    "# The fine-tuning job will take some time to start and complete.\n",
    "# e51ca50072d046dfa0ed414b874a97d2\n",
    "print(\"Job ID:\", response.id)\n",
    "print(\"Status:\", response.id)\n",
    "print(response.model_dump_json(indent=2))"
   ]
  },
  {
   "cell_type": "code",
   "execution_count": null,
   "id": "ed21071a",
   "metadata": {
    "pycharm": {
     "is_executing": true
    }
   },
   "outputs": [],
   "source": [
    "response = client.fine_tuning.jobs.retrieve(\"ftjob-ccfe37ea454940c2acb1099d7acf2c3f\")\n",
    "\n",
    "print(\"Job ID:\", response.id)\n",
    "print(\"Status:\", response.status)\n",
    "print(response.model_dump_json(indent=2))"
   ]
  },
  {
   "cell_type": "code",
   "execution_count": null,
   "id": "3e464202",
   "metadata": {
    "pycharm": {
     "is_executing": true
    }
   },
   "outputs": [],
   "source": [
    "response = client.fine_tuning.jobs.retrieve(\" ftjob-27053b12494c439ebb2b85ef39a48916\")\n",
    "if response.status == 'succeeded':\n",
    "    result_file_id = response.result_files[0]\n",
    "\n",
    "retrieve = client.files.retrieve(result_file_id)\n",
    "\n",
    "# Download the result file.\n",
    "print(f'Downloading result file: {result_file_id}')\n",
    "\n",
    "with open(retrieve.filename, \"wb\") as file:\n",
    "    result = client.files.content(result_file_id).read()\n",
    "    file.write(result)"
   ]
  },
  {
   "cell_type": "code",
   "execution_count": null,
   "id": "fe2b121e",
   "metadata": {},
   "outputs": [],
   "source": []
  }
 ],
 "metadata": {
  "kernelspec": {
   "display_name": "lnm",
   "language": "python",
   "name": "lnm"
  },
  "language_info": {
   "codemirror_mode": {
    "name": "ipython",
    "version": 3
   },
   "file_extension": ".py",
   "mimetype": "text/x-python",
   "name": "python",
   "nbconvert_exporter": "python",
   "pygments_lexer": "ipython3",
   "version": "3.10.13"
  }
 },
 "nbformat": 4,
 "nbformat_minor": 5
}
