{
 "cells": [
  {
   "cell_type": "code",
   "execution_count": 9,
   "id": "7efbd38c",
   "metadata": {},
   "outputs": [],
   "source": [
    "import os\n",
    "from openai import AzureOpenAI\n",
    "import json\n",
    "\n",
    "os.environ[\"AZURE_OPENAI_ENDPOINT\"] = \"https://llm-ft.openai.azure.com/\"\n",
    "os.environ[\"AZURE_OPENAI_KEY\"] = \"<YOUR_AZURE_API_KEY>\"\n",
    "\n",
    "client = AzureOpenAI(\n",
    "  azure_endpoint = os.getenv(\"AZURE_OPENAI_ENDPOINT\"), \n",
    "  api_key=os.getenv(\"AZURE_OPENAI_KEY\"),  \n",
    "  api_version=\"2023-12-01-preview\"  # This API version or later is required to access fine-tuning for turbo/babbage-002/davinci-002\n",
    ")"
   ]
  },
  {
   "cell_type": "code",
   "execution_count": 10,
   "id": "45c9969a",
   "metadata": {},
   "outputs": [],
   "source": [
    "with open('./instruction.md', 'r', encoding='utf-8') as file:\n",
    "    test_descriptions_list = file.readlines()"
   ]
  },
  {
   "cell_type": "code",
   "execution_count": null,
   "id": "14b25f42",
   "metadata": {
    "scrolled": true,
    "pycharm": {
     "is_executing": true
    }
   },
   "outputs": [],
   "source": [
    "model_responses = []\n",
    "instruction_and_answer_pairs = []\n",
    "print(test_descriptions_list)\n",
    "\n",
    "for i, entry in enumerate(test_descriptions_list):\n",
    "    print(entry)\n",
    "    response = client.chat.completions.create(\n",
    "        model=\"gpt-35-turbo-ft-jiewen\",\n",
    "        messages=[\n",
    "            {\"role\": \"system\", \"content\": \"You are tasked with answering a question based on the context of \\'Sionna,\\' a novel Python package for wireless simulation. The user cannot view the context.Please provide a comprehensive and self-contained answer. Ensure that your code is fully functional, with all input parameters pre-filled, to minimize the need for further user interaction.\"},\n",
    "            {\"role\": \"user\", \"content\": f\"{entry}\"},\n",
    "        ],\n",
    "        temperature = 0,\n",
    "        top_p= 0.1\n",
    "    )\n",
    "    response_lines = response.choices[0].message.content.strip().split('\\n')\n",
    "    instruction_and_answer_pairs.append((entry, response_lines))"
   ]
  },
  {
   "cell_type": "code",
   "execution_count": 5,
   "id": "3549c425",
   "metadata": {},
   "outputs": [],
   "source": [
    "with open('./H_32_32_finetune.md', 'w', encoding='utf-8') as file:\n",
    "    for instruction, answer in instruction_and_answer_pairs:\n",
    "        file.write(f\"**Instruction: {instruction.strip()}**\\n\")\n",
    "        answer = '\\n'.join(answer)\n",
    "        file.write(f\"Answer:\\n{answer}\")\n",
    "        file.write(\"\\n\\n\")"
   ]
  },
  {
   "cell_type": "code",
   "execution_count": null,
   "id": "c6b1cd99",
   "metadata": {},
   "outputs": [],
   "source": []
  }
 ],
 "metadata": {
  "kernelspec": {
   "display_name": "lnm",
   "language": "python",
   "name": "lnm"
  },
  "language_info": {
   "codemirror_mode": {
    "name": "ipython",
    "version": 3
   },
   "file_extension": ".py",
   "mimetype": "text/x-python",
   "name": "python",
   "nbconvert_exporter": "python",
   "pygments_lexer": "ipython3",
   "version": "3.10.13"
  }
 },
 "nbformat": 4,
 "nbformat_minor": 5
}
